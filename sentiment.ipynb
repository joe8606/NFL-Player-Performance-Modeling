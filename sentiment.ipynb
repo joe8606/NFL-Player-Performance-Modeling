{
 "cells": [
  {
   "cell_type": "code",
   "execution_count": null,
   "metadata": {},
   "outputs": [
    {
     "data": {
      "application/vnd.jupyter.widget-view+json": {
       "model_id": "75ffaeae89074500b8cc8c7fa3e4ecc3",
       "version_major": 2,
       "version_minor": 0
      },
      "text/plain": [
       "tokenizer_config.json:   0%|          | 0.00/39.0 [00:00<?, ?B/s]"
      ]
     },
     "metadata": {},
     "output_type": "display_data"
    },
    {
     "name": "stderr",
     "output_type": "stream",
     "text": [
      "C:\\Users\\Andy\\AppData\\Local\\Packages\\PythonSoftwareFoundation.Python.3.11_qbz5n2kfra8p0\\LocalCache\\local-packages\\Python311\\site-packages\\huggingface_hub\\file_download.py:139: UserWarning: `huggingface_hub` cache-system uses symlinks by default to efficiently store duplicated files but your machine does not support them in C:\\Users\\Andy\\.cache\\huggingface\\hub\\models--nlptown--bert-base-multilingual-uncased-sentiment. Caching files will still work but in a degraded version that might require more space on your disk. This warning can be disabled by setting the `HF_HUB_DISABLE_SYMLINKS_WARNING` environment variable. For more details, see https://huggingface.co/docs/huggingface_hub/how-to-cache#limitations.\n",
      "To support symlinks on Windows, you either need to activate Developer Mode or to run Python as an administrator. In order to activate developer mode, see this article: https://docs.microsoft.com/en-us/windows/apps/get-started/enable-your-device-for-development\n",
      "  warnings.warn(message)\n"
     ]
    },
    {
     "data": {
      "application/vnd.jupyter.widget-view+json": {
       "model_id": "5eaff1cc307b4f5591cf342f1ea2624d",
       "version_major": 2,
       "version_minor": 0
      },
      "text/plain": [
       "config.json:   0%|          | 0.00/953 [00:00<?, ?B/s]"
      ]
     },
     "metadata": {},
     "output_type": "display_data"
    },
    {
     "data": {
      "application/vnd.jupyter.widget-view+json": {
       "model_id": "c3a70fbc262a4a878d24114eca4cb44a",
       "version_major": 2,
       "version_minor": 0
      },
      "text/plain": [
       "vocab.txt:   0%|          | 0.00/872k [00:00<?, ?B/s]"
      ]
     },
     "metadata": {},
     "output_type": "display_data"
    },
    {
     "data": {
      "application/vnd.jupyter.widget-view+json": {
       "model_id": "54ee461a87f640888ab7e9128b7a65f6",
       "version_major": 2,
       "version_minor": 0
      },
      "text/plain": [
       "special_tokens_map.json:   0%|          | 0.00/112 [00:00<?, ?B/s]"
      ]
     },
     "metadata": {},
     "output_type": "display_data"
    },
    {
     "data": {
      "application/vnd.jupyter.widget-view+json": {
       "model_id": "6b079174e8694d80bf45c4a5dcdb16a8",
       "version_major": 2,
       "version_minor": 0
      },
      "text/plain": [
       "model.safetensors:   0%|          | 0.00/669M [00:00<?, ?B/s]"
      ]
     },
     "metadata": {},
     "output_type": "display_data"
    },
    {
     "data": {
      "text/html": [
       "<div>\n",
       "<style scoped>\n",
       "    .dataframe tbody tr th:only-of-type {\n",
       "        vertical-align: middle;\n",
       "    }\n",
       "\n",
       "    .dataframe tbody tr th {\n",
       "        vertical-align: top;\n",
       "    }\n",
       "\n",
       "    .dataframe thead th {\n",
       "        text-align: right;\n",
       "    }\n",
       "</style>\n",
       "<table border=\"1\" class=\"dataframe\">\n",
       "  <thead>\n",
       "    <tr style=\"text-align: right;\">\n",
       "      <th></th>\n",
       "      <th>Player</th>\n",
       "      <th>Player Bio</th>\n",
       "      <th>Player Grades</th>\n",
       "      <th>Draft Class</th>\n",
       "      <th>Link</th>\n",
       "    </tr>\n",
       "  </thead>\n",
       "  <tbody>\n",
       "    <tr>\n",
       "      <th>0</th>\n",
       "      <td>Jadeveon Clowney</td>\n",
       "      <td>A physical specimen with a rare size-speed com...</td>\n",
       "      <td>7.5</td>\n",
       "      <td>2014</td>\n",
       "      <td>https://www.nfl.com/prospects/jadeveon-clowney...</td>\n",
       "    </tr>\n",
       "    <tr>\n",
       "      <th>1</th>\n",
       "      <td>Sammy Watkins</td>\n",
       "      <td>A legitimate No. 1-caliber receiver who steppe...</td>\n",
       "      <td>7.1</td>\n",
       "      <td>2014</td>\n",
       "      <td>https://www.nfl.com/prospects/sammy-watkins/32...</td>\n",
       "    </tr>\n",
       "    <tr>\n",
       "      <th>2</th>\n",
       "      <td>Anthony Barr</td>\n",
       "      <td>A highly disruptive, athletic specimen with th...</td>\n",
       "      <td>7.0</td>\n",
       "      <td>2014</td>\n",
       "      <td>https://www.nfl.com/prospects/anthony-barr/320...</td>\n",
       "    </tr>\n",
       "    <tr>\n",
       "      <th>3</th>\n",
       "      <td>Khalil Mack</td>\n",
       "      <td>A havoc-wreaking rush linebacker with the burs...</td>\n",
       "      <td>7.0</td>\n",
       "      <td>2014</td>\n",
       "      <td>https://www.nfl.com/prospects/khalil-mack/3200...</td>\n",
       "    </tr>\n",
       "    <tr>\n",
       "      <th>4</th>\n",
       "      <td>Jake Matthews</td>\n",
       "      <td>Smart, tough, versatile franchise left tackle ...</td>\n",
       "      <td>7.0</td>\n",
       "      <td>2014</td>\n",
       "      <td>https://www.nfl.com/prospects/jake-matthews/32...</td>\n",
       "    </tr>\n",
       "  </tbody>\n",
       "</table>\n",
       "</div>"
      ],
      "text/plain": [
       "             Player                                         Player Bio  \\\n",
       "0  Jadeveon Clowney  A physical specimen with a rare size-speed com...   \n",
       "1     Sammy Watkins  A legitimate No. 1-caliber receiver who steppe...   \n",
       "2      Anthony Barr  A highly disruptive, athletic specimen with th...   \n",
       "3       Khalil Mack  A havoc-wreaking rush linebacker with the burs...   \n",
       "4     Jake Matthews  Smart, tough, versatile franchise left tackle ...   \n",
       "\n",
       "   Player Grades  Draft Class  \\\n",
       "0            7.5         2014   \n",
       "1            7.1         2014   \n",
       "2            7.0         2014   \n",
       "3            7.0         2014   \n",
       "4            7.0         2014   \n",
       "\n",
       "                                                Link  \n",
       "0  https://www.nfl.com/prospects/jadeveon-clowney...  \n",
       "1  https://www.nfl.com/prospects/sammy-watkins/32...  \n",
       "2  https://www.nfl.com/prospects/anthony-barr/320...  \n",
       "3  https://www.nfl.com/prospects/khalil-mack/3200...  \n",
       "4  https://www.nfl.com/prospects/jake-matthews/32...  "
      ]
     },
     "execution_count": 1,
     "metadata": {},
     "output_type": "execute_result"
    }
   ],
   "source": [
    "from transformers import AutoTokenizer, AutoModelForSequenceClassification\n",
    "import torch\n",
    "import numpy as np\n",
    "import pandas as pd\n",
    "\n",
    "model_name = \"nlptown/bert-base-multilingual-uncased-sentiment\"\n",
    "tokenizer = AutoTokenizer.from_pretrained(model_name)\n",
    "model = AutoModelForSequenceClassification.from_pretrained(model_name)\n",
    "\n",
    "def get_multiclass_sentiment(text):\n",
    "    inputs = tokenizer(text, return_tensors=\"pt\", truncation=True)\n",
    "    outputs = model(**inputs)\n",
    "    scores = torch.nn.functional.softmax(outputs.logits, dim=1)\n",
    "    stars = torch.argmax(scores, dim=1).item() + 1  # Star rating 1-5\n",
    "    return stars, scores.squeeze().tolist()\n",
    "\n",
    "# Apply to each bio\n",
    "df_bio = pd.read_csv(\"C:/Users/Andy/Documents/VSCODE/NFL Player Bio and Grade Data.csv\") # Change path\n",
    "df_bio.head()"
   ]
  },
  {
   "cell_type": "code",
   "execution_count": 2,
   "metadata": {},
   "outputs": [
    {
     "data": {
      "text/html": [
       "<div>\n",
       "<style scoped>\n",
       "    .dataframe tbody tr th:only-of-type {\n",
       "        vertical-align: middle;\n",
       "    }\n",
       "\n",
       "    .dataframe tbody tr th {\n",
       "        vertical-align: top;\n",
       "    }\n",
       "\n",
       "    .dataframe thead th {\n",
       "        text-align: right;\n",
       "    }\n",
       "</style>\n",
       "<table border=\"1\" class=\"dataframe\">\n",
       "  <thead>\n",
       "    <tr style=\"text-align: right;\">\n",
       "      <th></th>\n",
       "      <th>Player</th>\n",
       "      <th>Player Bio</th>\n",
       "      <th>Player Grades</th>\n",
       "      <th>Draft Class</th>\n",
       "      <th>Link</th>\n",
       "      <th>star_rating</th>\n",
       "      <th>score_1</th>\n",
       "      <th>score_2</th>\n",
       "      <th>score_3</th>\n",
       "      <th>score_4</th>\n",
       "      <th>score_5</th>\n",
       "    </tr>\n",
       "  </thead>\n",
       "  <tbody>\n",
       "    <tr>\n",
       "      <th>0</th>\n",
       "      <td>Jadeveon Clowney</td>\n",
       "      <td>A physical specimen with a rare size-speed com...</td>\n",
       "      <td>7.5</td>\n",
       "      <td>2014</td>\n",
       "      <td>https://www.nfl.com/prospects/jadeveon-clowney...</td>\n",
       "      <td>4</td>\n",
       "      <td>0.020313</td>\n",
       "      <td>0.057753</td>\n",
       "      <td>0.121158</td>\n",
       "      <td>0.459664</td>\n",
       "      <td>0.341111</td>\n",
       "    </tr>\n",
       "    <tr>\n",
       "      <th>1</th>\n",
       "      <td>Sammy Watkins</td>\n",
       "      <td>A legitimate No. 1-caliber receiver who steppe...</td>\n",
       "      <td>7.1</td>\n",
       "      <td>2014</td>\n",
       "      <td>https://www.nfl.com/prospects/sammy-watkins/32...</td>\n",
       "      <td>5</td>\n",
       "      <td>0.004270</td>\n",
       "      <td>0.003489</td>\n",
       "      <td>0.004970</td>\n",
       "      <td>0.073340</td>\n",
       "      <td>0.913931</td>\n",
       "    </tr>\n",
       "    <tr>\n",
       "      <th>2</th>\n",
       "      <td>Anthony Barr</td>\n",
       "      <td>A highly disruptive, athletic specimen with th...</td>\n",
       "      <td>7.0</td>\n",
       "      <td>2014</td>\n",
       "      <td>https://www.nfl.com/prospects/anthony-barr/320...</td>\n",
       "      <td>5</td>\n",
       "      <td>0.089131</td>\n",
       "      <td>0.116260</td>\n",
       "      <td>0.085209</td>\n",
       "      <td>0.235079</td>\n",
       "      <td>0.474321</td>\n",
       "    </tr>\n",
       "    <tr>\n",
       "      <th>3</th>\n",
       "      <td>Khalil Mack</td>\n",
       "      <td>A havoc-wreaking rush linebacker with the burs...</td>\n",
       "      <td>7.0</td>\n",
       "      <td>2014</td>\n",
       "      <td>https://www.nfl.com/prospects/khalil-mack/3200...</td>\n",
       "      <td>4</td>\n",
       "      <td>0.063653</td>\n",
       "      <td>0.158930</td>\n",
       "      <td>0.193473</td>\n",
       "      <td>0.381666</td>\n",
       "      <td>0.202278</td>\n",
       "    </tr>\n",
       "    <tr>\n",
       "      <th>4</th>\n",
       "      <td>Jake Matthews</td>\n",
       "      <td>Smart, tough, versatile franchise left tackle ...</td>\n",
       "      <td>7.0</td>\n",
       "      <td>2014</td>\n",
       "      <td>https://www.nfl.com/prospects/jake-matthews/32...</td>\n",
       "      <td>5</td>\n",
       "      <td>0.000751</td>\n",
       "      <td>0.001039</td>\n",
       "      <td>0.006316</td>\n",
       "      <td>0.272827</td>\n",
       "      <td>0.719067</td>\n",
       "    </tr>\n",
       "  </tbody>\n",
       "</table>\n",
       "</div>"
      ],
      "text/plain": [
       "             Player                                         Player Bio  \\\n",
       "0  Jadeveon Clowney  A physical specimen with a rare size-speed com...   \n",
       "1     Sammy Watkins  A legitimate No. 1-caliber receiver who steppe...   \n",
       "2      Anthony Barr  A highly disruptive, athletic specimen with th...   \n",
       "3       Khalil Mack  A havoc-wreaking rush linebacker with the burs...   \n",
       "4     Jake Matthews  Smart, tough, versatile franchise left tackle ...   \n",
       "\n",
       "   Player Grades  Draft Class  \\\n",
       "0            7.5         2014   \n",
       "1            7.1         2014   \n",
       "2            7.0         2014   \n",
       "3            7.0         2014   \n",
       "4            7.0         2014   \n",
       "\n",
       "                                                Link  star_rating   score_1  \\\n",
       "0  https://www.nfl.com/prospects/jadeveon-clowney...            4  0.020313   \n",
       "1  https://www.nfl.com/prospects/sammy-watkins/32...            5  0.004270   \n",
       "2  https://www.nfl.com/prospects/anthony-barr/320...            5  0.089131   \n",
       "3  https://www.nfl.com/prospects/khalil-mack/3200...            4  0.063653   \n",
       "4  https://www.nfl.com/prospects/jake-matthews/32...            5  0.000751   \n",
       "\n",
       "    score_2   score_3   score_4   score_5  \n",
       "0  0.057753  0.121158  0.459664  0.341111  \n",
       "1  0.003489  0.004970  0.073340  0.913931  \n",
       "2  0.116260  0.085209  0.235079  0.474321  \n",
       "3  0.158930  0.193473  0.381666  0.202278  \n",
       "4  0.001039  0.006316  0.272827  0.719067  "
      ]
     },
     "execution_count": 2,
     "metadata": {},
     "output_type": "execute_result"
    }
   ],
   "source": [
    "sentiment_results = df_bio['Player Bio'].apply(get_multiclass_sentiment)\n",
    "df_bio['star_rating'] = sentiment_results.apply(lambda x: x[0])\n",
    "df_bio[['score_1', 'score_2', 'score_3', 'score_4', 'score_5']] = pd.DataFrame(sentiment_results.apply(lambda x: x[1]).tolist(), index=df_bio.index)\n",
    "df_bio.head()"
   ]
  },
  {
   "cell_type": "code",
   "execution_count": 3,
   "metadata": {},
   "outputs": [],
   "source": [
    "df_bio.to_csv(\"Player Bio and Grade with Sentiment Score.csv\")"
   ]
  }
 ],
 "metadata": {
  "kernelspec": {
   "display_name": "Python 3",
   "language": "python",
   "name": "python3"
  },
  "language_info": {
   "codemirror_mode": {
    "name": "ipython",
    "version": 3
   },
   "file_extension": ".py",
   "mimetype": "text/x-python",
   "name": "python",
   "nbconvert_exporter": "python",
   "pygments_lexer": "ipython3",
   "version": "3.11.9"
  }
 },
 "nbformat": 4,
 "nbformat_minor": 2
}
